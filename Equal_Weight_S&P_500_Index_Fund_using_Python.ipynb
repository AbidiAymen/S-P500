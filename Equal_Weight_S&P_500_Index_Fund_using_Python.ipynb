{
  "nbformat": 4,
  "nbformat_minor": 0,
  "metadata": {
    "kernelspec": {
      "display_name": "Python 3",
      "language": "python",
      "name": "python3"
    },
    "language_info": {
      "codemirror_mode": {
        "name": "ipython",
        "version": 3
      },
      "file_extension": ".py",
      "mimetype": "text/x-python",
      "name": "python",
      "nbconvert_exporter": "python",
      "pygments_lexer": "ipython3",
      "version": "3.8.2"
    },
    "colab": {
      "name": "Equal-Weight S&P 500 Index Fund using Python",
      "provenance": [],
      "collapsed_sections": []
    }
  },
  "cells": [
    {
      "cell_type": "markdown",
      "metadata": {
        "id": "tPrpUxQV9_uG"
      },
      "source": [
        "# Equal-Weight S&P 500 Index Fund\n",
        "\n",
        "## Introduction & Library Imports\n",
        "\n",
        "The S&P 500 is the world's most popular stock market index. The largest fund that is benchmarked to this index is the SPDR® S&P 500® ETF Trust. It has more than US$250 billion of assets under management.\n",
        "\n",
        "The goal is to create a Python script that will accept the value of your portfolio and tell you how many shares of each S&P 500 constituent you should purchase to get an equal-weight version of the index fund.\n",
        "\n",
        "## Library Imports\n",
        "\n",
        "The first thing we need to do is import the open-source software libraries that we'll be using in this tutorial."
      ]
    },
    {
      "cell_type": "code",
      "metadata": {
        "colab": {
          "base_uri": "https://localhost:8080/"
        },
        "id": "9TX6yO55KbfY",
        "outputId": "534e7fda-c9ae-40b3-f87c-bd3b7677135f"
      },
      "source": [
        "!pip install xlsxwriter"
      ],
      "execution_count": null,
      "outputs": [
        {
          "output_type": "stream",
          "text": [
            "Collecting xlsxwriter\n",
            "\u001b[?25l  Downloading https://files.pythonhosted.org/packages/6b/41/bf1aae04932d1eaffee1fc5f8b38ca47bbbf07d765129539bc4bcce1ce0c/XlsxWriter-1.3.7-py2.py3-none-any.whl (144kB)\n",
            "\r\u001b[K     |██▎                             | 10kB 14.7MB/s eta 0:00:01\r\u001b[K     |████▌                           | 20kB 19.8MB/s eta 0:00:01\r\u001b[K     |██████▉                         | 30kB 12.2MB/s eta 0:00:01\r\u001b[K     |█████████                       | 40kB 9.8MB/s eta 0:00:01\r\u001b[K     |███████████▎                    | 51kB 8.0MB/s eta 0:00:01\r\u001b[K     |█████████████▋                  | 61kB 8.4MB/s eta 0:00:01\r\u001b[K     |███████████████▉                | 71kB 8.0MB/s eta 0:00:01\r\u001b[K     |██████████████████▏             | 81kB 8.3MB/s eta 0:00:01\r\u001b[K     |████████████████████▍           | 92kB 8.1MB/s eta 0:00:01\r\u001b[K     |██████████████████████▋         | 102kB 8.7MB/s eta 0:00:01\r\u001b[K     |█████████████████████████       | 112kB 8.7MB/s eta 0:00:01\r\u001b[K     |███████████████████████████▏    | 122kB 8.7MB/s eta 0:00:01\r\u001b[K     |█████████████████████████████▌  | 133kB 8.7MB/s eta 0:00:01\r\u001b[K     |███████████████████████████████▊| 143kB 8.7MB/s eta 0:00:01\r\u001b[K     |████████████████████████████████| 153kB 8.7MB/s \n",
            "\u001b[?25hInstalling collected packages: xlsxwriter\n",
            "Successfully installed xlsxwriter-1.3.7\n"
          ],
          "name": "stdout"
        }
      ]
    },
    {
      "cell_type": "code",
      "metadata": {
        "id": "-MY12VTo9_ub"
      },
      "source": [
        "import numpy as np\n",
        "import pandas as pd\n",
        "import requests\n",
        "import xlsxwriter\n",
        "import math"
      ],
      "execution_count": null,
      "outputs": []
    },
    {
      "cell_type": "markdown",
      "metadata": {
        "id": "0XLng0wW9_ue"
      },
      "source": [
        "## Importing Our List of Stocks\n",
        "\n",
        "The next thing we need to do is import the constituents of the S&P 500.\n",
        "\n",
        "These constituents change over time, so in an ideal world you would connect directly to the index provider (Standard & Poor's) and pull their real-time constituents on a regular basis.\n",
        "\n",
        "\n",
        "There's a static version of the S&P 500 constituents available here. [Click this link to download them now](https://drive.google.com/file/d/1ZJSpbY69DVckVZlO9cC6KkgfSufybcHN/view?usp=sharing). \n",
        "\n",
        "Now it's time to import these stocks to our Jupyter Notebook file."
      ]
    },
    {
      "cell_type": "code",
      "metadata": {
        "colab": {
          "base_uri": "https://localhost:8080/",
          "height": 424
        },
        "id": "DaTZORD49_uj",
        "outputId": "cbebe1c3-0524-4536-f9eb-ebfe1dc607eb"
      },
      "source": [
        "stocks=pd.read_csv('sp_500_stocks.csv')\n",
        "stocks"
      ],
      "execution_count": null,
      "outputs": [
        {
          "output_type": "execute_result",
          "data": {
            "text/html": [
              "<div>\n",
              "<style scoped>\n",
              "    .dataframe tbody tr th:only-of-type {\n",
              "        vertical-align: middle;\n",
              "    }\n",
              "\n",
              "    .dataframe tbody tr th {\n",
              "        vertical-align: top;\n",
              "    }\n",
              "\n",
              "    .dataframe thead th {\n",
              "        text-align: right;\n",
              "    }\n",
              "</style>\n",
              "<table border=\"1\" class=\"dataframe\">\n",
              "  <thead>\n",
              "    <tr style=\"text-align: right;\">\n",
              "      <th></th>\n",
              "      <th>Ticker</th>\n",
              "    </tr>\n",
              "  </thead>\n",
              "  <tbody>\n",
              "    <tr>\n",
              "      <th>0</th>\n",
              "      <td>A</td>\n",
              "    </tr>\n",
              "    <tr>\n",
              "      <th>1</th>\n",
              "      <td>AAL</td>\n",
              "    </tr>\n",
              "    <tr>\n",
              "      <th>2</th>\n",
              "      <td>AAP</td>\n",
              "    </tr>\n",
              "    <tr>\n",
              "      <th>3</th>\n",
              "      <td>AAPL</td>\n",
              "    </tr>\n",
              "    <tr>\n",
              "      <th>4</th>\n",
              "      <td>ABBV</td>\n",
              "    </tr>\n",
              "    <tr>\n",
              "      <th>...</th>\n",
              "      <td>...</td>\n",
              "    </tr>\n",
              "    <tr>\n",
              "      <th>500</th>\n",
              "      <td>YUM</td>\n",
              "    </tr>\n",
              "    <tr>\n",
              "      <th>501</th>\n",
              "      <td>ZBH</td>\n",
              "    </tr>\n",
              "    <tr>\n",
              "      <th>502</th>\n",
              "      <td>ZBRA</td>\n",
              "    </tr>\n",
              "    <tr>\n",
              "      <th>503</th>\n",
              "      <td>ZION</td>\n",
              "    </tr>\n",
              "    <tr>\n",
              "      <th>504</th>\n",
              "      <td>ZTS</td>\n",
              "    </tr>\n",
              "  </tbody>\n",
              "</table>\n",
              "<p>505 rows × 1 columns</p>\n",
              "</div>"
            ],
            "text/plain": [
              "    Ticker\n",
              "0        A\n",
              "1      AAL\n",
              "2      AAP\n",
              "3     AAPL\n",
              "4     ABBV\n",
              "..     ...\n",
              "500    YUM\n",
              "501    ZBH\n",
              "502   ZBRA\n",
              "503   ZION\n",
              "504    ZTS\n",
              "\n",
              "[505 rows x 1 columns]"
            ]
          },
          "metadata": {
            "tags": []
          },
          "execution_count": 74
        }
      ]
    },
    {
      "cell_type": "markdown",
      "metadata": {
        "id": "trjsI3DL9_um"
      },
      "source": [
        "## Acquiring an API Token\n",
        "\n",
        "Now it's time to import our IEX Cloud API token. This is the data provider that we will be using throughout this course.\n",
        "\n",
        "API tokens (and other sensitive information) should be stored in a `secrets.py` file that doesn't get pushed to your local Git repository. We'll be using a sandbox API token in this course, which means that the data we'll use is randomly-generated and (more importantly) has no cost associated with it.\n",
        "\n",
        "[Click here](http://nickmccullum.com/algorithmic-trading-python/secrets.py) to download your `secrets.py` file. Move the file into the same directory as this Jupyter Notebook before proceeding."
      ]
    },
    {
      "cell_type": "code",
      "metadata": {
        "id": "9Tla2puo9_uo"
      },
      "source": [
        "from secrets import IEX_CLOUD_API_TOKEN"
      ],
      "execution_count": null,
      "outputs": []
    },
    {
      "cell_type": "markdown",
      "metadata": {
        "id": "pZawNAVH9_ut"
      },
      "source": [
        "## Making Our First API Call\n",
        "\n",
        "Now it's time to structure our API calls to IEX cloud. \n",
        "\n",
        "We need the following information from the API:\n",
        "\n",
        "* Market capitalization for each stock\n",
        "* Price of each stock\n",
        "\n"
      ]
    },
    {
      "cell_type": "code",
      "metadata": {
        "colab": {
          "base_uri": "https://localhost:8080/"
        },
        "id": "PLEOEQ509_uv",
        "outputId": "e4c0a2a2-46a4-45a9-b218-a4f274a93861"
      },
      "source": [
        "symbol='AAPL'\n",
        "api_url=f'https://sandbox.iexapis.com/stable/stock/{symbol}/quote?token={IEX_CLOUD_API_TOKEN}'\n",
        "data = requests.get(api_url).json()\n",
        "print(data)"
      ],
      "execution_count": null,
      "outputs": [
        {
          "output_type": "stream",
          "text": [
            "{'symbol': 'AAPL', 'companyName': 'Apple Inc', 'primaryExchange': 'SBGKD SALALETLR AGEQON)MAS/(N TCE', 'calculationPrice': 'close', 'open': 125.38, 'openTime': 1639504795348, 'openSource': 'lcfifaoi', 'close': 120.25, 'closeTime': 1690829322403, 'closeSource': 'iiafoflc', 'high': 122.08, 'highTime': 1696551228471, 'highSource': 'eacnieeu 5 medti dy1rlp', 'low': 120.75, 'lowTime': 1656614246479, 'lowSource': 'mdilp ee nayri e15teudc', 'latestPrice': 120.58, 'latestSource': 'Close', 'latestTime': 'March 19, 2021', 'latestUpdate': 1690525224860, 'latestVolume': 194717928, 'iexRealtimePrice': None, 'iexRealtimeSize': None, 'iexLastUpdated': None, 'delayedPrice': 121.6, 'delayedPriceTime': 1687722444175, 'oddLotDelayedPrice': 122.23, 'oddLotDelayedPriceTime': 1628179611023, 'extendedPrice': 124.92, 'extendedChange': 0.03, 'extendedChangePercent': 0.00026, 'extendedPriceTime': 1623155741351, 'previousClose': 121.45, 'previousVolume': 124512672, 'change': -0.55, 'changePercent': -0.0047, 'volume': 192053586, 'iexMarketPercent': None, 'iexVolume': None, 'avgTotalVolume': 129394188, 'iexBidPrice': None, 'iexBidSize': None, 'iexAskPrice': None, 'iexAskSize': None, 'iexOpen': 125.45, 'iexOpenTime': 1643764822507, 'iexClose': 123.2, 'iexCloseTime': 1675127767693, 'marketCap': 2074839468948, 'peRatio': 33.51, 'week52High': 150.38, 'week52Low': 54.51, 'ytdChange': -0.10189378544054108, 'lastTradeTime': 1624729580145, 'isUSMarketOpen': False}\n"
          ],
          "name": "stdout"
        }
      ]
    },
    {
      "cell_type": "markdown",
      "metadata": {
        "id": "VeSqavVr9_uw"
      },
      "source": [
        "## Parsing Our API Call\n",
        "\n",
        "The API call that we executed in the last code block contains all of the information required to build our equal-weight S&P 500 strategy. \n",
        "\n",
        "With that said, the data isn't in a proper format yet. We need to parse it first."
      ]
    },
    {
      "cell_type": "code",
      "metadata": {
        "id": "TxDThqCz9_u0"
      },
      "source": [
        "price=data['latestPrice']\n",
        "market_cap=data['marketCap']"
      ],
      "execution_count": null,
      "outputs": []
    },
    {
      "cell_type": "markdown",
      "metadata": {
        "id": "8SZfJxkv9_u1"
      },
      "source": [
        "## Adding Our Stocks Data to a Pandas DataFrame\n",
        "\n",
        "The next thing we need to do is add our stock's price and market capitalization to a pandas DataFrame. Think of a DataFrame like the Python version of a spreadsheet. It stores tabular data."
      ]
    },
    {
      "cell_type": "code",
      "metadata": {
        "id": "brPbujUU9_vA",
        "colab": {
          "base_uri": "https://localhost:8080/",
          "height": 49
        },
        "outputId": "e43b0f31-7e2f-4683-d3b4-a4eb55e3e909"
      },
      "source": [
        "my_columns=['Ticker','Stock Price','Market Capitalization','Number of Shares to Buy']\n",
        "final_dataframe=pd.DataFrame(columns=my_columns)\n",
        "final_dataframe"
      ],
      "execution_count": null,
      "outputs": [
        {
          "output_type": "execute_result",
          "data": {
            "text/html": [
              "<div>\n",
              "<style scoped>\n",
              "    .dataframe tbody tr th:only-of-type {\n",
              "        vertical-align: middle;\n",
              "    }\n",
              "\n",
              "    .dataframe tbody tr th {\n",
              "        vertical-align: top;\n",
              "    }\n",
              "\n",
              "    .dataframe thead th {\n",
              "        text-align: right;\n",
              "    }\n",
              "</style>\n",
              "<table border=\"1\" class=\"dataframe\">\n",
              "  <thead>\n",
              "    <tr style=\"text-align: right;\">\n",
              "      <th></th>\n",
              "      <th>Ticker</th>\n",
              "      <th>Stock Price</th>\n",
              "      <th>Market Capitalization</th>\n",
              "      <th>Number of Shares to Buy</th>\n",
              "    </tr>\n",
              "  </thead>\n",
              "  <tbody>\n",
              "  </tbody>\n",
              "</table>\n",
              "</div>"
            ],
            "text/plain": [
              "Empty DataFrame\n",
              "Columns: [Ticker, Stock Price, Market Capitalization, Number of Shares to Buy]\n",
              "Index: []"
            ]
          },
          "metadata": {
            "tags": []
          },
          "execution_count": 78
        }
      ]
    },
    {
      "cell_type": "code",
      "metadata": {
        "id": "R0DHVrWX9_vB",
        "colab": {
          "base_uri": "https://localhost:8080/",
          "height": 81
        },
        "outputId": "852863e3-3a7f-4183-c98d-df1e0f897ad7"
      },
      "source": [
        "final_dataframe.append(\n",
        "    pd.Series([\n",
        "               symbol,price,market_cap,'N/A'\n",
        "    ],index=my_columns),\n",
        "    ignore_index=True\n",
        "    \n",
        ")"
      ],
      "execution_count": null,
      "outputs": [
        {
          "output_type": "execute_result",
          "data": {
            "text/html": [
              "<div>\n",
              "<style scoped>\n",
              "    .dataframe tbody tr th:only-of-type {\n",
              "        vertical-align: middle;\n",
              "    }\n",
              "\n",
              "    .dataframe tbody tr th {\n",
              "        vertical-align: top;\n",
              "    }\n",
              "\n",
              "    .dataframe thead th {\n",
              "        text-align: right;\n",
              "    }\n",
              "</style>\n",
              "<table border=\"1\" class=\"dataframe\">\n",
              "  <thead>\n",
              "    <tr style=\"text-align: right;\">\n",
              "      <th></th>\n",
              "      <th>Ticker</th>\n",
              "      <th>Stock Price</th>\n",
              "      <th>Market Capitalization</th>\n",
              "      <th>Number of Shares to Buy</th>\n",
              "    </tr>\n",
              "  </thead>\n",
              "  <tbody>\n",
              "    <tr>\n",
              "      <th>0</th>\n",
              "      <td>AAPL</td>\n",
              "      <td>120.58</td>\n",
              "      <td>2074839468948</td>\n",
              "      <td>N/A</td>\n",
              "    </tr>\n",
              "  </tbody>\n",
              "</table>\n",
              "</div>"
            ],
            "text/plain": [
              "  Ticker  Stock Price Market Capitalization Number of Shares to Buy\n",
              "0   AAPL       120.58         2074839468948                     N/A"
            ]
          },
          "metadata": {
            "tags": []
          },
          "execution_count": 79
        }
      ]
    },
    {
      "cell_type": "markdown",
      "metadata": {
        "id": "FRuHOmpk9_vC"
      },
      "source": [
        "## Looping Through The Tickers in Our List of Stocks\n",
        "\n",
        "Using the same logic that we outlined above, we can pull data for all S&P 500 stocks and store their data in the DataFrame using a `for` loop."
      ]
    },
    {
      "cell_type": "code",
      "metadata": {
        "id": "NkpWdfGe9_vD"
      },
      "source": [
        "final_dataframe=pd.DataFrame(columns=my_columns)\n",
        "for stock in stocks['Ticker']:\n",
        "  api_url=f'https://sandbox.iexapis.com/stable/stock/{stock}/quote?token={IEX_CLOUD_API_TOKEN}'\n",
        "  data = requests.get(api_url).json()\n",
        "  final_dataframe=final_dataframe.append(\n",
        "      pd.Series([\n",
        "                 stock,data['latestPrice'],data['marketCap'],'N/A'\n",
        "                 ], index=my_columns),\n",
        "                 ignore_index=True\n",
        "      \n",
        "  )"
      ],
      "execution_count": null,
      "outputs": []
    },
    {
      "cell_type": "code",
      "metadata": {
        "id": "gVrxJam09_vE",
        "colab": {
          "base_uri": "https://localhost:8080/",
          "height": 424
        },
        "outputId": "26d3c3eb-11fb-46b3-af3f-960a0125ab25"
      },
      "source": [
        "final_dataframe"
      ],
      "execution_count": null,
      "outputs": [
        {
          "output_type": "execute_result",
          "data": {
            "text/html": [
              "<div>\n",
              "<style scoped>\n",
              "    .dataframe tbody tr th:only-of-type {\n",
              "        vertical-align: middle;\n",
              "    }\n",
              "\n",
              "    .dataframe tbody tr th {\n",
              "        vertical-align: top;\n",
              "    }\n",
              "\n",
              "    .dataframe thead th {\n",
              "        text-align: right;\n",
              "    }\n",
              "</style>\n",
              "<table border=\"1\" class=\"dataframe\">\n",
              "  <thead>\n",
              "    <tr style=\"text-align: right;\">\n",
              "      <th></th>\n",
              "      <th>Ticker</th>\n",
              "      <th>Stock Price</th>\n",
              "      <th>Market Capitalization</th>\n",
              "      <th>Number of Shares to Buy</th>\n",
              "    </tr>\n",
              "  </thead>\n",
              "  <tbody>\n",
              "    <tr>\n",
              "      <th>0</th>\n",
              "      <td>A</td>\n",
              "      <td>128.69</td>\n",
              "      <td>38162891833</td>\n",
              "      <td>N/A</td>\n",
              "    </tr>\n",
              "    <tr>\n",
              "      <th>1</th>\n",
              "      <td>AAL</td>\n",
              "      <td>26.05</td>\n",
              "      <td>16739895559</td>\n",
              "      <td>N/A</td>\n",
              "    </tr>\n",
              "    <tr>\n",
              "      <th>2</th>\n",
              "      <td>AAP</td>\n",
              "      <td>191.00</td>\n",
              "      <td>12628450562</td>\n",
              "      <td>N/A</td>\n",
              "    </tr>\n",
              "    <tr>\n",
              "      <th>3</th>\n",
              "      <td>AAPL</td>\n",
              "      <td>120.15</td>\n",
              "      <td>2037020264285</td>\n",
              "      <td>N/A</td>\n",
              "    </tr>\n",
              "    <tr>\n",
              "      <th>4</th>\n",
              "      <td>ABBV</td>\n",
              "      <td>103.43</td>\n",
              "      <td>184606331674</td>\n",
              "      <td>N/A</td>\n",
              "    </tr>\n",
              "    <tr>\n",
              "      <th>...</th>\n",
              "      <td>...</td>\n",
              "      <td>...</td>\n",
              "      <td>...</td>\n",
              "      <td>...</td>\n",
              "    </tr>\n",
              "    <tr>\n",
              "      <th>500</th>\n",
              "      <td>YUM</td>\n",
              "      <td>112.28</td>\n",
              "      <td>33833765885</td>\n",
              "      <td>N/A</td>\n",
              "    </tr>\n",
              "    <tr>\n",
              "      <th>501</th>\n",
              "      <td>ZBH</td>\n",
              "      <td>162.08</td>\n",
              "      <td>34676386023</td>\n",
              "      <td>N/A</td>\n",
              "    </tr>\n",
              "    <tr>\n",
              "      <th>502</th>\n",
              "      <td>ZBRA</td>\n",
              "      <td>477.08</td>\n",
              "      <td>24759732102</td>\n",
              "      <td>N/A</td>\n",
              "    </tr>\n",
              "    <tr>\n",
              "      <th>503</th>\n",
              "      <td>ZION</td>\n",
              "      <td>57.34</td>\n",
              "      <td>9627227487</td>\n",
              "      <td>N/A</td>\n",
              "    </tr>\n",
              "    <tr>\n",
              "      <th>504</th>\n",
              "      <td>ZTS</td>\n",
              "      <td>156.88</td>\n",
              "      <td>74734982961</td>\n",
              "      <td>N/A</td>\n",
              "    </tr>\n",
              "  </tbody>\n",
              "</table>\n",
              "<p>505 rows × 4 columns</p>\n",
              "</div>"
            ],
            "text/plain": [
              "    Ticker  Stock Price Market Capitalization Number of Shares to Buy\n",
              "0        A       128.69           38162891833                     N/A\n",
              "1      AAL        26.05           16739895559                     N/A\n",
              "2      AAP       191.00           12628450562                     N/A\n",
              "3     AAPL       120.15         2037020264285                     N/A\n",
              "4     ABBV       103.43          184606331674                     N/A\n",
              "..     ...          ...                   ...                     ...\n",
              "500    YUM       112.28           33833765885                     N/A\n",
              "501    ZBH       162.08           34676386023                     N/A\n",
              "502   ZBRA       477.08           24759732102                     N/A\n",
              "503   ZION        57.34            9627227487                     N/A\n",
              "504    ZTS       156.88           74734982961                     N/A\n",
              "\n",
              "[505 rows x 4 columns]"
            ]
          },
          "metadata": {
            "tags": []
          },
          "execution_count": 81
        }
      ]
    },
    {
      "cell_type": "markdown",
      "metadata": {
        "id": "o3dDaFVQ9_vF"
      },
      "source": [
        "## Using Batch API Calls to Improve Performance\n",
        "\n",
        "Batch API calls are one of the easiest ways to improve the performance of your code.\n",
        "\n",
        "This is because HTTP requests are typically one of the slowest components of a script.\n",
        "\n",
        "Also, API providers will often give you discounted rates for using batch API calls since they are easier for the API provider to respond to.\n",
        "\n",
        "IEX Cloud limits their batch API calls to 100 tickers per request. Still, this reduces the number of API calls we'll make in this section from 500 to 5 - huge improvement! In this section, we'll split our list of stocks into groups of 100 and then make a batch API call for each group."
      ]
    },
    {
      "cell_type": "code",
      "metadata": {
        "id": "1zSGLDdN9_vG"
      },
      "source": [
        "def chunks(l, n):   \n",
        "    # looping till length l \n",
        "    for i in range(0, len(l), n):  \n",
        "        yield l[i:i + n] "
      ],
      "execution_count": null,
      "outputs": []
    },
    {
      "cell_type": "code",
      "metadata": {
        "id": "vPVq612h9_vG",
        "colab": {
          "base_uri": "https://localhost:8080/",
          "height": 424
        },
        "outputId": "174cdd49-d7cc-4c6c-cc7b-1f8c1c3212a9"
      },
      "source": [
        "symbol_groups=list(chunks(stocks['Ticker'],100))\n",
        "symbol_strings=[]\n",
        "for i in range(0, len(symbol_groups)):\n",
        "  symbol_strings.append(','.join(symbol_groups[i]))  #we're taking all elements of symbol_groups[i] and joining them to create a full string seperated by ','\n",
        "final_dataframe=pd.DataFrame(columns=my_columns)\n",
        "\n",
        "for symbol_string in symbol_strings:\n",
        "  batch_api_call_url=f'https://sandbox.iexapis.com/stable/stock/market/batch?symbols={symbol_string}&types=quote&token={IEX_CLOUD_API_TOKEN}'\n",
        "  data=requests.get(batch_api_call_url).json()\n",
        "  for symbol in symbol_string.split(','):\n",
        "    final_dataframe=final_dataframe.append(\n",
        "        pd.Series([\n",
        "         symbol,\n",
        "         data[symbol]['quote']['latestPrice'], #We're looking at the json file ( almost same as dictionnaries in python) : we get the data related to chosen symbol , out of that data we get the data related to 'quote', then from that data get the value of 'lastPrice'\n",
        "         data[symbol]['quote']['marketCap'],\n",
        "         'N/A'\n",
        "        ],\n",
        "        index=my_columns),\n",
        "        ignore_index=True\n",
        "    )\n",
        "final_dataframe"
      ],
      "execution_count": null,
      "outputs": [
        {
          "output_type": "execute_result",
          "data": {
            "text/html": [
              "<div>\n",
              "<style scoped>\n",
              "    .dataframe tbody tr th:only-of-type {\n",
              "        vertical-align: middle;\n",
              "    }\n",
              "\n",
              "    .dataframe tbody tr th {\n",
              "        vertical-align: top;\n",
              "    }\n",
              "\n",
              "    .dataframe thead th {\n",
              "        text-align: right;\n",
              "    }\n",
              "</style>\n",
              "<table border=\"1\" class=\"dataframe\">\n",
              "  <thead>\n",
              "    <tr style=\"text-align: right;\">\n",
              "      <th></th>\n",
              "      <th>Ticker</th>\n",
              "      <th>Stock Price</th>\n",
              "      <th>Market Capitalization</th>\n",
              "      <th>Number of Shares to Buy</th>\n",
              "    </tr>\n",
              "  </thead>\n",
              "  <tbody>\n",
              "    <tr>\n",
              "      <th>0</th>\n",
              "      <td>A</td>\n",
              "      <td>127.27</td>\n",
              "      <td>37778397571</td>\n",
              "      <td>N/A</td>\n",
              "    </tr>\n",
              "    <tr>\n",
              "      <th>1</th>\n",
              "      <td>AAL</td>\n",
              "      <td>25.73</td>\n",
              "      <td>16456452363</td>\n",
              "      <td>N/A</td>\n",
              "    </tr>\n",
              "    <tr>\n",
              "      <th>2</th>\n",
              "      <td>AAP</td>\n",
              "      <td>189.00</td>\n",
              "      <td>12397091351</td>\n",
              "      <td>N/A</td>\n",
              "    </tr>\n",
              "    <tr>\n",
              "      <th>3</th>\n",
              "      <td>AAPL</td>\n",
              "      <td>120.88</td>\n",
              "      <td>2069638226557</td>\n",
              "      <td>N/A</td>\n",
              "    </tr>\n",
              "    <tr>\n",
              "      <th>4</th>\n",
              "      <td>ABBV</td>\n",
              "      <td>105.87</td>\n",
              "      <td>189867910016</td>\n",
              "      <td>N/A</td>\n",
              "    </tr>\n",
              "    <tr>\n",
              "      <th>...</th>\n",
              "      <td>...</td>\n",
              "      <td>...</td>\n",
              "      <td>...</td>\n",
              "      <td>...</td>\n",
              "    </tr>\n",
              "    <tr>\n",
              "      <th>500</th>\n",
              "      <td>YUM</td>\n",
              "      <td>110.53</td>\n",
              "      <td>33401391837</td>\n",
              "      <td>N/A</td>\n",
              "    </tr>\n",
              "    <tr>\n",
              "      <th>501</th>\n",
              "      <td>ZBH</td>\n",
              "      <td>167.29</td>\n",
              "      <td>34318717969</td>\n",
              "      <td>N/A</td>\n",
              "    </tr>\n",
              "    <tr>\n",
              "      <th>502</th>\n",
              "      <td>ZBRA</td>\n",
              "      <td>460.15</td>\n",
              "      <td>25433210338</td>\n",
              "      <td>N/A</td>\n",
              "    </tr>\n",
              "    <tr>\n",
              "      <th>503</th>\n",
              "      <td>ZION</td>\n",
              "      <td>58.11</td>\n",
              "      <td>9585366968</td>\n",
              "      <td>N/A</td>\n",
              "    </tr>\n",
              "    <tr>\n",
              "      <th>504</th>\n",
              "      <td>ZTS</td>\n",
              "      <td>156.89</td>\n",
              "      <td>76342214285</td>\n",
              "      <td>N/A</td>\n",
              "    </tr>\n",
              "  </tbody>\n",
              "</table>\n",
              "<p>505 rows × 4 columns</p>\n",
              "</div>"
            ],
            "text/plain": [
              "    Ticker  Stock Price Market Capitalization Number of Shares to Buy\n",
              "0        A       127.27           37778397571                     N/A\n",
              "1      AAL        25.73           16456452363                     N/A\n",
              "2      AAP       189.00           12397091351                     N/A\n",
              "3     AAPL       120.88         2069638226557                     N/A\n",
              "4     ABBV       105.87          189867910016                     N/A\n",
              "..     ...          ...                   ...                     ...\n",
              "500    YUM       110.53           33401391837                     N/A\n",
              "501    ZBH       167.29           34318717969                     N/A\n",
              "502   ZBRA       460.15           25433210338                     N/A\n",
              "503   ZION        58.11            9585366968                     N/A\n",
              "504    ZTS       156.89           76342214285                     N/A\n",
              "\n",
              "[505 rows x 4 columns]"
            ]
          },
          "metadata": {
            "tags": []
          },
          "execution_count": 83
        }
      ]
    },
    {
      "cell_type": "markdown",
      "metadata": {
        "id": "Fu3ah6GV9_vI"
      },
      "source": [
        "## Calculating the Number of Shares to Buy\n",
        "\n",
        "As you can see in the DataFrame above, we stil haven't calculated the number of shares of each stock to buy.\n",
        "\n",
        "We'll do that next."
      ]
    },
    {
      "cell_type": "code",
      "metadata": {
        "id": "2DSpn4Bo9_vI",
        "colab": {
          "base_uri": "https://localhost:8080/"
        },
        "outputId": "0fa0e70f-486d-442f-eb63-3f099c5a9bec"
      },
      "source": [
        "portfolio_size=input('Enter the value of your portfolio :')\n",
        "valid=False\n",
        "while (valid==False):\n",
        "  try:\n",
        "    val=float(portfolio_size)\n",
        "    valid=True\n",
        "  except ValueError:\n",
        "    print(\"Try again !, please input a valid value \")\n",
        "    portfolio_size=input('Enter the value of your portfolio :')\n"
      ],
      "execution_count": null,
      "outputs": [
        {
          "output_type": "stream",
          "text": [
            "Enter the value of your portfolio :10000000\n"
          ],
          "name": "stdout"
        }
      ]
    },
    {
      "cell_type": "code",
      "metadata": {
        "id": "vF5O3r9-9_va"
      },
      "source": [
        "position_size=val/len(final_dataframe.index) #We're calculating the sum of money that we can spend on each Stock ( all stocks here are equal, we're going to spend the same amount of money on each stock hence \" th equal weight spending\")\n",
        "for i in range(0,len(final_dataframe.index)):\n",
        "  final_dataframe.loc[i,'Number of Shares to Buy']=math.floor(position_size/final_dataframe.loc[i,'Stock Price']) # for each stock calculate the number of shares that you can buy"
      ],
      "execution_count": null,
      "outputs": []
    },
    {
      "cell_type": "code",
      "metadata": {
        "colab": {
          "base_uri": "https://localhost:8080/",
          "height": 424
        },
        "id": "O4e27qQZmLWS",
        "outputId": "afcf7b44-d0a6-4737-d4bb-ddaa47807b25"
      },
      "source": [
        "final_dataframe"
      ],
      "execution_count": null,
      "outputs": [
        {
          "output_type": "execute_result",
          "data": {
            "text/html": [
              "<div>\n",
              "<style scoped>\n",
              "    .dataframe tbody tr th:only-of-type {\n",
              "        vertical-align: middle;\n",
              "    }\n",
              "\n",
              "    .dataframe tbody tr th {\n",
              "        vertical-align: top;\n",
              "    }\n",
              "\n",
              "    .dataframe thead th {\n",
              "        text-align: right;\n",
              "    }\n",
              "</style>\n",
              "<table border=\"1\" class=\"dataframe\">\n",
              "  <thead>\n",
              "    <tr style=\"text-align: right;\">\n",
              "      <th></th>\n",
              "      <th>Ticker</th>\n",
              "      <th>Stock Price</th>\n",
              "      <th>Market Capitalization</th>\n",
              "      <th>Number of Shares to Buy</th>\n",
              "    </tr>\n",
              "  </thead>\n",
              "  <tbody>\n",
              "    <tr>\n",
              "      <th>0</th>\n",
              "      <td>A</td>\n",
              "      <td>127.27</td>\n",
              "      <td>37778397571</td>\n",
              "      <td>155</td>\n",
              "    </tr>\n",
              "    <tr>\n",
              "      <th>1</th>\n",
              "      <td>AAL</td>\n",
              "      <td>25.73</td>\n",
              "      <td>16456452363</td>\n",
              "      <td>769</td>\n",
              "    </tr>\n",
              "    <tr>\n",
              "      <th>2</th>\n",
              "      <td>AAP</td>\n",
              "      <td>189.00</td>\n",
              "      <td>12397091351</td>\n",
              "      <td>104</td>\n",
              "    </tr>\n",
              "    <tr>\n",
              "      <th>3</th>\n",
              "      <td>AAPL</td>\n",
              "      <td>120.88</td>\n",
              "      <td>2069638226557</td>\n",
              "      <td>163</td>\n",
              "    </tr>\n",
              "    <tr>\n",
              "      <th>4</th>\n",
              "      <td>ABBV</td>\n",
              "      <td>105.87</td>\n",
              "      <td>189867910016</td>\n",
              "      <td>187</td>\n",
              "    </tr>\n",
              "    <tr>\n",
              "      <th>...</th>\n",
              "      <td>...</td>\n",
              "      <td>...</td>\n",
              "      <td>...</td>\n",
              "      <td>...</td>\n",
              "    </tr>\n",
              "    <tr>\n",
              "      <th>500</th>\n",
              "      <td>YUM</td>\n",
              "      <td>110.53</td>\n",
              "      <td>33401391837</td>\n",
              "      <td>179</td>\n",
              "    </tr>\n",
              "    <tr>\n",
              "      <th>501</th>\n",
              "      <td>ZBH</td>\n",
              "      <td>167.29</td>\n",
              "      <td>34318717969</td>\n",
              "      <td>118</td>\n",
              "    </tr>\n",
              "    <tr>\n",
              "      <th>502</th>\n",
              "      <td>ZBRA</td>\n",
              "      <td>460.15</td>\n",
              "      <td>25433210338</td>\n",
              "      <td>43</td>\n",
              "    </tr>\n",
              "    <tr>\n",
              "      <th>503</th>\n",
              "      <td>ZION</td>\n",
              "      <td>58.11</td>\n",
              "      <td>9585366968</td>\n",
              "      <td>340</td>\n",
              "    </tr>\n",
              "    <tr>\n",
              "      <th>504</th>\n",
              "      <td>ZTS</td>\n",
              "      <td>156.89</td>\n",
              "      <td>76342214285</td>\n",
              "      <td>126</td>\n",
              "    </tr>\n",
              "  </tbody>\n",
              "</table>\n",
              "<p>505 rows × 4 columns</p>\n",
              "</div>"
            ],
            "text/plain": [
              "    Ticker  Stock Price Market Capitalization Number of Shares to Buy\n",
              "0        A       127.27           37778397571                     155\n",
              "1      AAL        25.73           16456452363                     769\n",
              "2      AAP       189.00           12397091351                     104\n",
              "3     AAPL       120.88         2069638226557                     163\n",
              "4     ABBV       105.87          189867910016                     187\n",
              "..     ...          ...                   ...                     ...\n",
              "500    YUM       110.53           33401391837                     179\n",
              "501    ZBH       167.29           34318717969                     118\n",
              "502   ZBRA       460.15           25433210338                      43\n",
              "503   ZION        58.11            9585366968                     340\n",
              "504    ZTS       156.89           76342214285                     126\n",
              "\n",
              "[505 rows x 4 columns]"
            ]
          },
          "metadata": {
            "tags": []
          },
          "execution_count": 86
        }
      ]
    },
    {
      "cell_type": "markdown",
      "metadata": {
        "id": "QeH5PzNd9_vc"
      },
      "source": [
        "## Formatting Our Excel Output\n",
        "\n",
        "We will be using the XlsxWriter library for Python to create nicely-formatted Excel files.\n",
        "\n",
        "XlsxWriter is an excellent package and offers tons of customization. However, the tradeoff for this is that the library can seem very complicated to new users. \n",
        "\n",
        "### Initializing our XlsxWriter Object"
      ]
    },
    {
      "cell_type": "code",
      "metadata": {
        "id": "Umbj7Kf19_vc"
      },
      "source": [
        "writer=pd.ExcelWriter('recommended_trades.xlsx',engine='xlsxwriter')\n",
        "final_dataframe.to_excel(writer,'Recommended Trades', index=False)"
      ],
      "execution_count": null,
      "outputs": []
    },
    {
      "cell_type": "markdown",
      "metadata": {
        "id": "WXXVLsYe9_vd"
      },
      "source": [
        "### Creating the Formats We'll Need For Our `.xlsx` File\n",
        "\n",
        "Formats include colors, fonts, and also symbols like `%` and `$`. We'll need four main formats for our Excel document:\n",
        "* String format for tickers\n",
        "* \\\\$XX.XX format for stock prices\n",
        "* \\\\$XX,XXX format for market capitalization\n",
        "* Integer format for the number of shares to purchase"
      ]
    },
    {
      "cell_type": "code",
      "metadata": {
        "id": "cmgRU58v9_ve"
      },
      "source": [
        "background_color='#0a0a23'\n",
        "font_color='#ffffff'\n",
        "string_format=writer.book.add_format(\n",
        "    {\n",
        "        'font_color':font_color,\n",
        "        'bg_color':background_color,\n",
        "        'border':1\n",
        "    }\n",
        ")\n",
        "dollar_format=writer.book.add_format(\n",
        "    {\n",
        "        'num_format':'$0.00',\n",
        "        'font_color':font_color,\n",
        "        'bg_color':background_color,\n",
        "        'border':1\n",
        "    }\n",
        ")\n",
        "integer_format=writer.book.add_format(\n",
        "    {\n",
        "        'num_format':'0',\n",
        "        'font_color':font_color,\n",
        "        'bg_color':background_color,\n",
        "        'border':1\n",
        "    }\n",
        ")"
      ],
      "execution_count": null,
      "outputs": []
    },
    {
      "cell_type": "markdown",
      "metadata": {
        "id": "YhPdarlL9_vg"
      },
      "source": [
        "### Applying the Formats to the Columns of Our `.xlsx` File\n",
        "\n",
        "We can use the `set_column` method applied to the `writer.sheets['Recommended Trades']` object to apply formats to specific columns of our spreadsheets.\n",
        "\n",
        "Here's an example:\n",
        "\n",
        "```python\n",
        "writer.sheets['Recommended Trades'].set_column('B:B', #This tells the method to apply the format to column B\n",
        "                     18, #This tells the method to apply a column width of 18 pixels\n",
        "                     string_template #This applies the format 'string_template' to the column\n",
        "                    )\n",
        "```"
      ]
    },
    {
      "cell_type": "code",
      "metadata": {
        "id": "vidlhvHy9_vh"
      },
      "source": [
        "column_formats={\n",
        "    'A' :['Ticker',string_format],\n",
        "    'B' :['Stock Price', dollar_format],\n",
        "    'C' :['Market Capitalization', dollar_format],\n",
        "    'D' :['Number of Shares to Buy',integer_format]\n",
        "}\n",
        "\n",
        "for column in column_formats.keys():\n",
        "  writer.sheets['Recommended Trades'].set_column(f'{column}:{column}',20,column_formats[column][1])\n",
        "  writer.sheets['Recommended Trades'].write(f'{column}1',column_formats[column][0],column_formats[column][1])"
      ],
      "execution_count": null,
      "outputs": []
    },
    {
      "cell_type": "markdown",
      "metadata": {
        "id": "lR3moGZW9_vi"
      },
      "source": [
        "## Saving Our Excel Output\n",
        "\n",
        "Saving our Excel file is very easy:"
      ]
    },
    {
      "cell_type": "code",
      "metadata": {
        "id": "4I3qAXOy9_vj"
      },
      "source": [
        "writer.save()"
      ],
      "execution_count": null,
      "outputs": []
    }
  ]
}